{
 "cells": [
  {
   "cell_type": "code",
   "id": "initial_id",
   "metadata": {
    "collapsed": true,
    "ExecuteTime": {
     "end_time": "2024-11-19T20:57:15.318101Z",
     "start_time": "2024-11-19T20:57:15.313924Z"
    }
   },
   "source": [
    "import torch\n",
    "import numpy as np\n",
    "\n",
    "\n",
    "def parse_data_stats(file_path):\n",
    "    # Load the stats with weights_only=False\n",
    "    stats = torch.load(file_path, weights_only=False)\n",
    "\n",
    "    # Parse and print statistics\n",
    "    print(f\"Loading stats from: {file_path}\")\n",
    "\n",
    "    pose_mean = stats[\"pose_mean\"].reshape(-1)\n",
    "    pose_std = stats[\"pose_std\"].reshape(-1)\n",
    "    face_mean = stats[\"code_mean\"].reshape(-1)\n",
    "    face_std = stats[\"code_std\"].reshape(-1)\n",
    "    audio_mean = stats[\"audio_mean\"].reshape(-1)\n",
    "    audio_std = stats[\"audio_std_flat\"].reshape(-1)\n",
    "    print(stats.keys())\n",
    "    print(f\"Pose mean shape: {pose_mean.shape}\")\n",
    "    print(f\"Pose std shape: {pose_std.shape}\")\n",
    "    print(f\"Face mean shape: {face_mean.shape}\")\n",
    "    print(f\"Face std shape: {face_std.shape}\")\n",
    "    print(f\"Audio mean shape: {audio_mean}\")\n",
    "    print(f\"Audio std shape: {audio_std}\")\n",
    "\n",
    "    return stats\n",
    "\n",
    "# Load stats\n",
    "stats = parse_data_stats(\"./dataset/GQS883/data_stats.pth\")"
   ],
   "outputs": [
    {
     "name": "stdout",
     "output_type": "stream",
     "text": [
      "Loading stats from: ./dataset/GQS883/data_stats.pth\n",
      "dict_keys(['code_std_flat', 'code_std', 'code_mean', 'pose_std_flat', 'pose_std', 'pose_mean', 'audio_std_flat', 'audio_std', 'audio_mean'])\n",
      "Pose mean shape: (104,)\n",
      "Pose std shape: (104,)\n",
      "Face mean shape: (256,)\n",
      "Face std shape: (256,)\n",
      "Audio mean shape: [-7.8997459e-08 -1.5775761e-07]\n",
      "Audio std shape: [0.01367152]\n"
     ]
    }
   ],
   "execution_count": 28
  },
  {
   "metadata": {
    "jupyter": {
     "is_executing": true
    }
   },
   "cell_type": "code",
   "source": [
    "import requests\n",
    "\n",
    "import json\n",
    "\n",
    "# Start inference job from local file (POST /v0/batch/jobs)\n",
    "response = requests.post(\n",
    "  \"https://api.hume.ai/v0/batch/jobs\",\n",
    "  headers={\n",
    "    \"X-Hume-Api-Key\": \"1sJm18G85hBifTpuITNw8OvubszP0rAdstFuf6EWfAP8I2a6\",\n",
    "    \"Content-Type\": \"multipart/form-data\"\n",
    "  },\n",
    "  data={\n",
    "    'json': json.dumps({\n",
    "        \"models\": {\n",
    "          \"burst\": {},\n",
    "          \"prosody\": {},\n",
    "          \"language\": {},\n",
    "          \"ner\": {}\n",
    "        }\n",
    "      }),\n",
    "  },\n",
    "  files={\n",
    "    'file': [\n",
    "      ('scene01_audio.wav', open('./dataset/GQS883/scene01_audio.wav', 'rb')),\n",
    "      ],\n",
    "  },\n",
    ")\n",
    "print(response.json())\n"
   ],
   "id": "e09b0e189c5c77d2",
   "outputs": [],
   "execution_count": null
  }
 ],
 "metadata": {
  "kernelspec": {
   "display_name": "Python 3",
   "language": "python",
   "name": "python3"
  },
  "language_info": {
   "codemirror_mode": {
    "name": "ipython",
    "version": 2
   },
   "file_extension": ".py",
   "mimetype": "text/x-python",
   "name": "python",
   "nbconvert_exporter": "python",
   "pygments_lexer": "ipython2",
   "version": "2.7.6"
  }
 },
 "nbformat": 4,
 "nbformat_minor": 5
}
