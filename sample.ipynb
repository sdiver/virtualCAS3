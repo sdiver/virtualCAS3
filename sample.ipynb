{
 "cells": [
  {
   "metadata": {},
   "cell_type": "markdown",
   "source": [
    "# This is a sample Jupyter Notebook\n",
    "\n",
    "Below is an example of a code cell. \n",
    "Put your cursor into the cell and press Shift+Enter to execute it and select the next one, or click 'Run Cell' button.\n",
    "\n",
    "Press Double Shift to search everywhere for classes, files, tool windows, actions, and settings.\n",
    "\n",
    "To learn more about Jupyter Notebooks in PyCharm, see [help](https://www.jetbrains.com/help/pycharm/ipython-notebook-support.html).\n",
    "For an overview of PyCharm, go to Help -> Learn IDE features or refer to [our documentation](https://www.jetbrains.com/help/pycharm/getting-started.html)."
   ],
   "id": "8a77807f92f26ee"
  },
  {
   "metadata": {
    "ExecuteTime": {
     "end_time": "2024-10-01T16:25:51.736575Z",
     "start_time": "2024-10-01T16:25:51.729793Z"
    }
   },
   "cell_type": "code",
   "source": "print(\"Hello World!\")\n",
   "id": "fbc121e30a2defb3",
   "outputs": [
    {
     "name": "stdout",
     "output_type": "stream",
     "text": [
      "Hello World!\n"
     ]
    }
   ],
   "execution_count": 1
  },
  {
   "metadata": {
    "ExecuteTime": {
     "end_time": "2024-10-01T16:38:49.104576Z",
     "start_time": "2024-10-01T16:38:48.875379Z"
    }
   },
   "cell_type": "code",
   "source": [
    "import numpy as np\n",
    "np.set_printoptions(threshold=10000)\n",
    "model_dir = '/home/xshi/data'\n",
    "ckpt_path = f'{model_dir}/scene01_body_pose.npy'\n",
    "# Make sure the path is correct. Adjust the path as needed.\n",
    "data = np.load(ckpt_path)\n",
    "print(data)"
   ],
   "id": "baa55339bd43154f",
   "outputs": [
    {
     "name": "stdout",
     "output_type": "stream",
     "text": [
      "[[ 8.23849022e-01 -1.12371216e+01 -2.71876183e+01 ... -6.40109107e-02\n",
      "  -3.20773602e-01  7.71681443e-02]\n",
      " [ 8.24385583e-01 -1.12360411e+01 -2.71896152e+01 ... -4.31973115e-02\n",
      "  -3.10606033e-01  7.83741325e-02]\n",
      " [ 8.27276766e-01 -1.12369184e+01 -2.71895294e+01 ... -5.12192175e-02\n",
      "  -3.07885021e-01  5.88470995e-02]\n",
      " ...\n",
      " [ 8.09785008e-01 -1.12297487e+01 -2.70931911e+01 ...  1.09688222e-01\n",
      "  -3.15510392e-01  1.29866246e-02]\n",
      " [ 8.14209521e-01 -1.12304935e+01 -2.70993805e+01 ...  1.03485063e-01\n",
      "  -3.11677337e-01  2.54884455e-02]\n",
      " [ 8.18326771e-01 -1.12305584e+01 -2.71045361e+01 ...  1.08550467e-01\n",
      "  -3.36654097e-01  1.26602715e-02]]\n"
     ]
    }
   ],
   "execution_count": 8
  }
 ],
 "metadata": {
  "kernelspec": {
   "display_name": "Python 3",
   "language": "python",
   "name": "python3"
  },
  "language_info": {
   "codemirror_mode": {
    "name": "ipython",
    "version": 2
   },
   "file_extension": ".py",
   "mimetype": "text/x-python",
   "name": "python",
   "nbconvert_exporter": "python",
   "pygments_lexer": "ipython2",
   "version": "2.7.6"
  }
 },
 "nbformat": 4,
 "nbformat_minor": 5
}
